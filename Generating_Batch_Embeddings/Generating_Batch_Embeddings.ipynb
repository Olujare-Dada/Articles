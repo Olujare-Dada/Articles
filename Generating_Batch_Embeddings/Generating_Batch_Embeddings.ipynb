{
 "cells": [
  {
   "cell_type": "markdown",
   "id": "78d440ea-ea7e-4f93-b510-834fca9a30c3",
   "metadata": {},
   "source": [
    "### Import the relevant libraries"
   ]
  },
  {
   "cell_type": "code",
   "execution_count": 1,
   "id": "ca66d81a-cdde-4247-84d1-c672f635e030",
   "metadata": {},
   "outputs": [
    {
     "data": {
      "text/plain": [
       "True"
      ]
     },
     "execution_count": 1,
     "metadata": {},
     "output_type": "execute_result"
    }
   ],
   "source": [
    "import pandas as pd\n",
    "import json\n",
    "from openai import OpenAI\n",
    "from dotenv import load_dotenv\n",
    "import os\n",
    "import time\n",
    "\n",
    "\n",
    "load_dotenv()"
   ]
  },
  {
   "cell_type": "code",
   "execution_count": null,
   "id": "bde7e3ea-a65a-4bc8-8e5a-703ac3c0a4e9",
   "metadata": {},
   "outputs": [],
   "source": []
  },
  {
   "cell_type": "markdown",
   "id": "408495d0-e615-4331-9032-271b16d24c52",
   "metadata": {},
   "source": [
    "### Import and inspect the dataset"
   ]
  },
  {
   "cell_type": "code",
   "execution_count": 2,
   "id": "f5b1411f-76e5-4f50-9103-9f37665be288",
   "metadata": {},
   "outputs": [
    {
     "data": {
      "text/html": [
       "<div>\n",
       "<style scoped>\n",
       "    .dataframe tbody tr th:only-of-type {\n",
       "        vertical-align: middle;\n",
       "    }\n",
       "\n",
       "    .dataframe tbody tr th {\n",
       "        vertical-align: top;\n",
       "    }\n",
       "\n",
       "    .dataframe thead th {\n",
       "        text-align: right;\n",
       "    }\n",
       "</style>\n",
       "<table border=\"1\" class=\"dataframe\">\n",
       "  <thead>\n",
       "    <tr style=\"text-align: right;\">\n",
       "      <th></th>\n",
       "      <th>movieId</th>\n",
       "      <th>title</th>\n",
       "      <th>genres</th>\n",
       "    </tr>\n",
       "  </thead>\n",
       "  <tbody>\n",
       "    <tr>\n",
       "      <th>0</th>\n",
       "      <td>1</td>\n",
       "      <td>Toy Story (1995)</td>\n",
       "      <td>Adventure|Animation|Children|Comedy|Fantasy</td>\n",
       "    </tr>\n",
       "    <tr>\n",
       "      <th>1</th>\n",
       "      <td>2</td>\n",
       "      <td>Jumanji (1995)</td>\n",
       "      <td>Adventure|Children|Fantasy</td>\n",
       "    </tr>\n",
       "    <tr>\n",
       "      <th>2</th>\n",
       "      <td>3</td>\n",
       "      <td>Grumpier Old Men (1995)</td>\n",
       "      <td>Comedy|Romance</td>\n",
       "    </tr>\n",
       "    <tr>\n",
       "      <th>3</th>\n",
       "      <td>4</td>\n",
       "      <td>Waiting to Exhale (1995)</td>\n",
       "      <td>Comedy|Drama|Romance</td>\n",
       "    </tr>\n",
       "    <tr>\n",
       "      <th>4</th>\n",
       "      <td>5</td>\n",
       "      <td>Father of the Bride Part II (1995)</td>\n",
       "      <td>Comedy</td>\n",
       "    </tr>\n",
       "  </tbody>\n",
       "</table>\n",
       "</div>"
      ],
      "text/plain": [
       "   movieId                               title  \\\n",
       "0        1                    Toy Story (1995)   \n",
       "1        2                      Jumanji (1995)   \n",
       "2        3             Grumpier Old Men (1995)   \n",
       "3        4            Waiting to Exhale (1995)   \n",
       "4        5  Father of the Bride Part II (1995)   \n",
       "\n",
       "                                        genres  \n",
       "0  Adventure|Animation|Children|Comedy|Fantasy  \n",
       "1                   Adventure|Children|Fantasy  \n",
       "2                               Comedy|Romance  \n",
       "3                         Comedy|Drama|Romance  \n",
       "4                                       Comedy  "
      ]
     },
     "execution_count": 2,
     "metadata": {},
     "output_type": "execute_result"
    }
   ],
   "source": [
    "df = pd.read_csv(\"./movies.csv\")\n",
    "\n",
    "df.head()"
   ]
  },
  {
   "cell_type": "code",
   "execution_count": null,
   "id": "1a13b7e0-a63d-4a2e-b5c3-7c60e839e59e",
   "metadata": {},
   "outputs": [],
   "source": []
  },
  {
   "cell_type": "markdown",
   "id": "eb58aee4-60b7-456c-af8b-467ada9ad7c5",
   "metadata": {},
   "source": [
    "### Make the Genres column unique"
   ]
  },
  {
   "cell_type": "code",
   "execution_count": 3,
   "id": "25e87015-f5b5-49e2-a4ab-30b2f0bebe1b",
   "metadata": {},
   "outputs": [],
   "source": [
    "all_genres = df.genres.dropna().unique()"
   ]
  },
  {
   "cell_type": "code",
   "execution_count": null,
   "id": "4bd343d1-635a-4c81-8bef-836558941f3c",
   "metadata": {},
   "outputs": [],
   "source": []
  },
  {
   "cell_type": "markdown",
   "id": "d60bf5c6-d755-4743-8aa9-53215d55d00f",
   "metadata": {},
   "source": [
    "### Create folder for our transformed dataset"
   ]
  },
  {
   "cell_type": "code",
   "execution_count": 4,
   "id": "d0243239-0752-4886-a4f8-51b921806926",
   "metadata": {},
   "outputs": [],
   "source": [
    "movie_genre_folder = \"movie_genre_batch_files\"\n",
    "if not os.path.exists(movie_genre_folder):\n",
    "    os.mkdir(movie_genre_folder)"
   ]
  },
  {
   "cell_type": "code",
   "execution_count": null,
   "id": "057dcf4e-9451-4b3e-b55d-275879965873",
   "metadata": {},
   "outputs": [],
   "source": []
  },
  {
   "cell_type": "markdown",
   "id": "160f8b60-2133-48e8-899d-d1fd05f35e4a",
   "metadata": {},
   "source": [
    "### Create function for generating the .jsonl lines"
   ]
  },
  {
   "cell_type": "code",
   "execution_count": 5,
   "id": "83c81d4c-97aa-4127-a602-6243c9adf850",
   "metadata": {},
   "outputs": [],
   "source": [
    "def create_request_object(request_number, genres):\n",
    "    request_object = {\n",
    "        \"custom_id\": f\"request-{request_number}\",\n",
    "        \"method\": \"POST\",\n",
    "        \"url\": \"/v1/embeddings\",\n",
    "        \"body\": {\n",
    "            \"model\": \"text-embedding-3-small\",\n",
    "            \"input\": genres,\n",
    "            \"encoding_format\": \"float\",\n",
    "            \n",
    "            }\n",
    "        }\n",
    "    return request_object\n"
   ]
  },
  {
   "cell_type": "code",
   "execution_count": null,
   "id": "f18333f7-f0f5-453e-b771-04b2b2cdd498",
   "metadata": {},
   "outputs": [],
   "source": []
  },
  {
   "cell_type": "markdown",
   "id": "f302ad1e-1b69-4e71-8e37-3db7bf8e7097",
   "metadata": {},
   "source": [
    "### Create function for writing .jsonl file into the transformed data folder"
   ]
  },
  {
   "cell_type": "code",
   "execution_count": 6,
   "id": "95019a0f-4850-4f5c-8e63-14fa570587f9",
   "metadata": {},
   "outputs": [],
   "source": [
    "def create_batch_jsonl(batch_num, movie_genre_folder, genres, updated_idx_start):\n",
    "    with open(f\"{movie_genre_folder}/movie_genre_batch_{batch_num}.jsonl\", \"w\") as f:\n",
    "        for idx, genre in enumerate(genres):\n",
    "            \n",
    "            request_number = idx+1 + updated_idx_start\n",
    "            \n",
    "            genre_request_object = create_request_object(request_number, genre)\n",
    "            f.write(json.dumps(genre_request_object) + \"\\n\")"
   ]
  },
  {
   "cell_type": "code",
   "execution_count": null,
   "id": "38c84ec2-3728-4903-90d6-9eed510b390e",
   "metadata": {},
   "outputs": [],
   "source": []
  },
  {
   "cell_type": "markdown",
   "id": "2c5da67c-198f-495b-9355-639959088685",
   "metadata": {},
   "source": [
    "### Creating a batch of .jsonl data from the Genre column"
   ]
  },
  {
   "cell_type": "code",
   "execution_count": 7,
   "id": "b2d825ff-a853-4634-b29f-a6b18e6ce651",
   "metadata": {},
   "outputs": [
    {
     "name": "stdout",
     "output_type": "stream",
     "text": [
      "new_beginning = 0\n",
      " batch_num = 819\n",
      "new_beginning = 819\n",
      " batch_num = 819\n",
      "new_beginning = 1638\n",
      " batch_num = 819\n"
     ]
    }
   ],
   "source": [
    "batch_num = 2000 if len(all_genres) > 2000 else int(len(all_genres)/2)\n",
    "\n",
    "new_beginning = 0\n",
    "for batch_idx, num in enumerate(range(0, len(all_genres)+1, batch_num )):\n",
    "    \n",
    "    batch_genres = all_genres.tolist()[new_beginning: new_beginning + batch_num]\n",
    "    \n",
    "    create_batch_jsonl(batch_idx, movie_genre_folder, batch_genres, updated_idx_start = num)\n",
    "    print(f\"{new_beginning = }\\n {batch_num = }\")\n",
    "    new_beginning += batch_num\n",
    "        "
   ]
  },
  {
   "cell_type": "code",
   "execution_count": null,
   "id": "b110100d-71c0-49ea-88ff-834b56e360f9",
   "metadata": {},
   "outputs": [],
   "source": []
  },
  {
   "cell_type": "markdown",
   "id": "187c3400-7ba0-43d9-a341-157b7ec5652a",
   "metadata": {},
   "source": [
    "### Initialize OpenAI client"
   ]
  },
  {
   "cell_type": "code",
   "execution_count": 8,
   "id": "0393cb55-7b77-4b7e-b9cf-fbc643288f18",
   "metadata": {},
   "outputs": [],
   "source": [
    "client = OpenAI()"
   ]
  },
  {
   "cell_type": "code",
   "execution_count": null,
   "id": "af9a37bc-5c31-4b50-a872-134dcb3a5c7d",
   "metadata": {},
   "outputs": [],
   "source": []
  },
  {
   "cell_type": "markdown",
   "id": "ce473b28-9ba6-4a51-8fe3-13de1da06602",
   "metadata": {},
   "source": [
    "### Create Batch Input File Object"
   ]
  },
  {
   "cell_type": "code",
   "execution_count": 9,
   "id": "8d61e98b-352b-4efb-a71e-b6cbca9c5dd5",
   "metadata": {},
   "outputs": [],
   "source": [
    "batch_input_file = client.files.create(\n",
    "  file=open(f\"{movie_genre_folder}/movie_genre_batch_1.jsonl\", \"rb\"),\n",
    "  purpose=\"batch\"\n",
    ")"
   ]
  },
  {
   "cell_type": "code",
   "execution_count": 10,
   "id": "713a715c-3e3b-4455-ac79-672b3efad0df",
   "metadata": {},
   "outputs": [
    {
     "data": {
      "text/plain": [
       "FileObject(id='file-lbVRxGKZRFDAWrABG0PxhrHQ', bytes=156528, created_at=1727143446, filename='movie_genre_batch_1.jsonl', object='file', purpose='batch', status='processed', status_details=None)"
      ]
     },
     "execution_count": 10,
     "metadata": {},
     "output_type": "execute_result"
    }
   ],
   "source": [
    "batch_input_file"
   ]
  },
  {
   "cell_type": "code",
   "execution_count": 11,
   "id": "06d813c0-984c-41b1-9845-64b0f08ec5b3",
   "metadata": {},
   "outputs": [],
   "source": [
    "batch_input_file_id = batch_input_file.id"
   ]
  },
  {
   "cell_type": "code",
   "execution_count": null,
   "id": "c0eaf9bf-89eb-4a44-a058-33eab052639b",
   "metadata": {},
   "outputs": [],
   "source": []
  },
  {
   "cell_type": "markdown",
   "id": "02439765-34ea-4ae6-a9ab-ea7c466c3f19",
   "metadata": {},
   "source": [
    "### Start the process of generating embeddings"
   ]
  },
  {
   "cell_type": "code",
   "execution_count": 12,
   "id": "14d3d44e-d9c1-4a99-b556-556e1985d9a8",
   "metadata": {},
   "outputs": [],
   "source": [
    "batch_creation_object = client.batches.create(\n",
    "    input_file_id=batch_input_file_id,\n",
    "    endpoint=\"/v1/embeddings\",\n",
    "    completion_window=\"24h\",\n",
    "    metadata={\n",
    "      \"description\": \"nightly eval job\"\n",
    "    }\n",
    ")\n"
   ]
  },
  {
   "cell_type": "code",
   "execution_count": 13,
   "id": "1e8cbed4-4e9b-40ac-839f-ac046289e2b0",
   "metadata": {},
   "outputs": [
    {
     "name": "stdout",
     "output_type": "stream",
     "text": [
      "Batch embedding creation object initialized.\n",
      "Batch_ID: batch_VLtiwBeNL45luSgMvILJK5uI\n",
      "\n",
      "Job status:\n",
      "Batch(id='batch_VLtiwBeNL45luSgMvILJK5uI', completion_window='24h', created_at=1727143447, endpoint='/v1/embeddings', input_file_id='file-lbVRxGKZRFDAWrABG0PxhrHQ', object='batch', status='validating', cancelled_at=None, cancelling_at=None, completed_at=None, error_file_id=None, errors=None, expired_at=None, expires_at=1727229847, failed_at=None, finalizing_at=None, in_progress_at=None, metadata={'description': 'nightly eval job'}, output_file_id=None, request_counts=BatchRequestCounts(completed=0, failed=0, total=0))\n"
     ]
    }
   ],
   "source": [
    "batch_id = batch_creation_object.id\n",
    "print(f\"Batch embedding creation object initialized.\\nBatch_ID: {batch_id}\")\n",
    "\n",
    "job = client.batches.retrieve(batch_id)\n",
    "print(f\"\\nJob status:\\n{job}\")"
   ]
  },
  {
   "cell_type": "code",
   "execution_count": null,
   "id": "fcc5cff9-4fbc-4e52-b404-0e32ff75090d",
   "metadata": {},
   "outputs": [],
   "source": []
  },
  {
   "cell_type": "markdown",
   "id": "bfe91873-4a6a-4691-8183-1e2cfebd4d30",
   "metadata": {},
   "source": [
    "### Waiting for 60 seconds until the output_file_id value is no longer None"
   ]
  },
  {
   "cell_type": "code",
   "execution_count": 14,
   "id": "23b393e5-1b40-4a36-8886-33bdef00a6e0",
   "metadata": {
    "scrolled": true
   },
   "outputs": [
    {
     "name": "stdout",
     "output_type": "stream",
     "text": [
      "Output Field Id value: None\n",
      "Waiting another 60 seconds\n",
      "Completion status: \n",
      "completed = 819\n",
      "failed = 0\n",
      "total = 819\n",
      "Output Field Id value: None\n",
      "Waiting another 60 seconds\n",
      "Completion status: \n",
      "completed = 819\n",
      "failed = 0\n",
      "total = 819\n",
      "Output Field Id value: None\n",
      "Waiting another 60 seconds\n",
      "Completion status: \n",
      "completed = 819\n",
      "failed = 0\n",
      "total = 819\n",
      "Output Field Id value: None\n",
      "Waiting another 60 seconds\n",
      "Completion status: \n",
      "completed = 819\n",
      "failed = 0\n",
      "total = 819\n",
      "Output Field Id value: None\n",
      "Waiting another 60 seconds\n",
      "Completion status: \n",
      "completed = 819\n",
      "failed = 0\n",
      "total = 819\n",
      "Output Field Id value: None\n",
      "Waiting another 60 seconds\n",
      "Completion status: \n",
      "completed = 819\n",
      "failed = 0\n",
      "total = 819\n",
      "Output Field Id value: None\n",
      "Waiting another 60 seconds\n",
      "Completion status: \n",
      "completed = 819\n",
      "failed = 0\n",
      "total = 819\n",
      "Output Field Id value: None\n",
      "Waiting another 60 seconds\n",
      "Completion status: \n",
      "completed = 819\n",
      "failed = 0\n",
      "total = 819\n",
      "Output Field Id value: None\n",
      "Waiting another 60 seconds\n",
      "Completion status: \n",
      "completed = 819\n",
      "failed = 0\n",
      "total = 819\n",
      "Output Field Id value: None\n",
      "Waiting another 60 seconds\n",
      "Completion status: \n",
      "completed = 819\n",
      "failed = 0\n",
      "total = 819\n",
      "Output Field Id value: None\n",
      "Waiting another 60 seconds\n",
      "Completion status: \n",
      "completed = 819\n",
      "failed = 0\n",
      "total = 819\n",
      "Output Field Id value: None\n",
      "Waiting another 60 seconds\n",
      "Completion status: \n",
      "completed = 819\n",
      "failed = 0\n",
      "total = 819\n",
      "Output Field Id value: None\n",
      "Waiting another 60 seconds\n",
      "Completion status: \n",
      "completed = 819\n",
      "failed = 0\n",
      "total = 819\n",
      "Output Field Id value: None\n",
      "Waiting another 60 seconds\n",
      "Completion status: \n",
      "completed = 819\n",
      "failed = 0\n",
      "total = 819\n",
      "Output Field Id value: None\n",
      "Waiting another 60 seconds\n",
      "Completion status: \n",
      "completed = 819\n",
      "failed = 0\n",
      "total = 819\n",
      "Output Field Id value: None\n",
      "Waiting another 60 seconds\n",
      "Completion status: \n",
      "completed = 819\n",
      "failed = 0\n",
      "total = 819\n",
      "Output Field Id value: None\n",
      "Waiting another 60 seconds\n",
      "Completion status: \n",
      "completed = 819\n",
      "failed = 0\n",
      "total = 819\n",
      "Output Field Id value: None\n",
      "Waiting another 60 seconds\n",
      "Completion status: \n",
      "completed = 819\n",
      "failed = 0\n",
      "total = 819\n",
      "Output Field Id value: None\n",
      "Waiting another 60 seconds\n",
      "Completion status: \n",
      "completed = 819\n",
      "failed = 0\n",
      "total = 819\n",
      "Output Field Id value: None\n",
      "Waiting another 60 seconds\n",
      "Completion status: \n",
      "completed = 819\n",
      "failed = 0\n",
      "total = 819\n",
      "Output Field Id value: None\n",
      "Waiting another 60 seconds\n",
      "Completion status: \n",
      "completed = 819\n",
      "failed = 0\n",
      "total = 819\n",
      "Output Field Id value: None\n",
      "Waiting another 60 seconds\n",
      "Completion status: \n",
      "completed = 819\n",
      "failed = 0\n",
      "total = 819\n",
      "Output Field Id value: None\n",
      "Waiting another 60 seconds\n",
      "Completion status: \n",
      "completed = 819\n",
      "failed = 0\n",
      "total = 819\n",
      "Output Field Id value: None\n",
      "Waiting another 60 seconds\n",
      "Completion status: \n",
      "completed = 819\n",
      "failed = 0\n",
      "total = 819\n",
      "Output Field Id value: None\n",
      "Waiting another 60 seconds\n",
      "Completion status: \n",
      "completed = 819\n",
      "failed = 0\n",
      "total = 819\n",
      "Output Field Id value: None\n",
      "Waiting another 60 seconds\n",
      "Completion status: \n",
      "completed = 819\n",
      "failed = 0\n",
      "total = 819\n",
      "Output Field Id value: None\n",
      "Waiting another 60 seconds\n",
      "Completion status: \n",
      "completed = 819\n",
      "failed = 0\n",
      "total = 819\n",
      "Output Field Id value: None\n",
      "Waiting another 60 seconds\n",
      "Completion status: \n",
      "completed = 819\n",
      "failed = 0\n",
      "total = 819\n",
      "Output Field Id value: None\n",
      "Waiting another 60 seconds\n",
      "Completion status: \n",
      "completed = 819\n",
      "failed = 0\n",
      "total = 819\n",
      "Output Field Id value: None\n",
      "Waiting another 60 seconds\n",
      "Completion status: \n",
      "completed = 819\n",
      "failed = 0\n",
      "total = 819\n",
      "Output Field Id value: None\n",
      "Waiting another 60 seconds\n",
      "Completion status: \n",
      "completed = 819\n",
      "failed = 0\n",
      "total = 819\n",
      "Output Field Id value: None\n",
      "Waiting another 60 seconds\n",
      "Completion status: \n",
      "completed = 819\n",
      "failed = 0\n",
      "total = 819\n",
      "Output Field Id value: None\n",
      "Waiting another 60 seconds\n",
      "Completion status: \n",
      "completed = 819\n",
      "failed = 0\n",
      "total = 819\n",
      "Output Field Id value: file-GMxSt9SwYr0iHT45p9DBwQpD\n",
      "Waiting another 60 seconds\n",
      "Completion status: \n",
      "completed = 819\n",
      "failed = 0\n",
      "total = 819\n"
     ]
    }
   ],
   "source": [
    "output_file_id = job.output_file_id\n",
    "\n",
    "while not output_file_id:\n",
    "    time.sleep(60)\n",
    "    job = client.batches.retrieve(batch_id)\n",
    "    output_file_id = job.output_file_id\n",
    "    print(f\"Output Field Id value: {output_file_id}\\nWaiting another 60 seconds\")\n",
    "\n",
    "    completed = job.request_counts.completed\n",
    "    failed = job.request_counts.failed\n",
    "    total = completed = job.request_counts.total\n",
    "    print(f\"Completion status: \\n{completed = }\\n{failed = }\\n{total = }\\n\")"
   ]
  },
  {
   "cell_type": "code",
   "execution_count": 15,
   "id": "f0d7d1cb-7f83-4045-9b15-06621de0df6c",
   "metadata": {},
   "outputs": [
    {
     "data": {
      "text/plain": [
       "'file-GMxSt9SwYr0iHT45p9DBwQpD'"
      ]
     },
     "execution_count": 15,
     "metadata": {},
     "output_type": "execute_result"
    }
   ],
   "source": [
    "job.output_file_id"
   ]
  },
  {
   "cell_type": "code",
   "execution_count": 16,
   "id": "6c853d09-c982-48e1-8448-ecff6ccaf060",
   "metadata": {},
   "outputs": [
    {
     "data": {
      "text/plain": [
       "'file-GMxSt9SwYr0iHT45p9DBwQpD'"
      ]
     },
     "execution_count": 16,
     "metadata": {},
     "output_type": "execute_result"
    }
   ],
   "source": [
    "output_file_id = job.output_file_id\n",
    "output_file_id"
   ]
  },
  {
   "cell_type": "code",
   "execution_count": null,
   "id": "5b38c85a-041f-4027-b047-c8e35ebd43df",
   "metadata": {},
   "outputs": [],
   "source": []
  },
  {
   "cell_type": "markdown",
   "id": "b278c74f-e533-484c-8129-9bdf6f984233",
   "metadata": {},
   "source": [
    "### Retrieving the embeddings"
   ]
  },
  {
   "cell_type": "code",
   "execution_count": 17,
   "id": "62111473-f1ec-4d3e-9f0c-961026da5be0",
   "metadata": {},
   "outputs": [
    {
     "data": {
      "text/plain": [
       "'file-GMxSt9SwYr0iHT45p9DBwQpD'"
      ]
     },
     "execution_count": 17,
     "metadata": {},
     "output_type": "execute_result"
    }
   ],
   "source": [
    "#Final Job result\n",
    "job = client.batches.retrieve(batch_id)\n",
    "\n",
    "output_file_id = job.output_file_id\n",
    "output_file_id"
   ]
  },
  {
   "cell_type": "code",
   "execution_count": 18,
   "id": "35a6d39c-e552-4ae6-a45e-25ad6dc941ee",
   "metadata": {},
   "outputs": [],
   "source": [
    "file_content = client.files.content(output_file_id)"
   ]
  },
  {
   "cell_type": "code",
   "execution_count": null,
   "id": "807df29f-dd7a-4907-b80a-458baef09c00",
   "metadata": {},
   "outputs": [],
   "source": []
  },
  {
   "cell_type": "markdown",
   "id": "d4d3f6a6-ef0d-423c-a319-a88ce6baec45",
   "metadata": {},
   "source": [
    "### Writing the embeddings to a .jsonl file"
   ]
  },
  {
   "cell_type": "code",
   "execution_count": 19,
   "id": "56621661-9e14-4756-88c9-c3c588543629",
   "metadata": {},
   "outputs": [],
   "source": [
    "with open(\"gpt_output.jsonl\", \"wb\") as f:\n",
    "    f.write(file_content.read())"
   ]
  },
  {
   "cell_type": "code",
   "execution_count": null,
   "id": "7798306b-5c02-44fc-b688-9849e305dfc6",
   "metadata": {},
   "outputs": [],
   "source": []
  },
  {
   "cell_type": "code",
   "execution_count": null,
   "id": "29cf6640-2369-42ba-b493-6bbb4eadb883",
   "metadata": {},
   "outputs": [],
   "source": []
  }
 ],
 "metadata": {
  "kernelspec": {
   "display_name": "Python 3 (ipykernel)",
   "language": "python",
   "name": "python3"
  },
  "language_info": {
   "codemirror_mode": {
    "name": "ipython",
    "version": 3
   },
   "file_extension": ".py",
   "mimetype": "text/x-python",
   "name": "python",
   "nbconvert_exporter": "python",
   "pygments_lexer": "ipython3",
   "version": "3.12.4"
  }
 },
 "nbformat": 4,
 "nbformat_minor": 5
}
